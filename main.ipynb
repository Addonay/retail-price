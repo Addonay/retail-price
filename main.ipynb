{
 "cells": [
  {
   "cell_type": "code",
   "execution_count": null,
   "id": "76a3fbc5",
   "metadata": {},
   "outputs": [],
   "source": [
    "# !uv init && uv venv && source .venv/bin/activate\n",
    "!uv sync"
   ]
  },
  {
   "cell_type": "code",
   "execution_count": null,
   "id": "1903ca9e",
   "metadata": {
    "title": "IMPORTS"
   },
   "outputs": [],
   "source": [
    "import warnings\n",
    "\n",
    "import joblib\n",
    "import matplotlib.pyplot as plt\n",
    "import polars as pl\n",
    "import seaborn as sns\n",
    "from sklearn.metrics import (\n",
    "    accuracy_score,\n",
    "    classification_report,\n",
    "    confusion_matrix,\n",
    ")\n",
    "from sklearn.model_selection import (\n",
    "    GridSearchCV,\n",
    "    train_test_split,\n",
    ")\n",
    "from sklearn.neighbors import KNeighborsClassifier\n",
    "from sklearn.neural_network import MLPClassifier\n",
    "from sklearn.tree import DecisionTreeClassifier, plot_tree\n",
    "\n",
    "warnings.filterwarnings(\"ignore\")"
   ]
  },
  {
   "cell_type": "code",
   "execution_count": null,
   "id": "62d84118",
   "metadata": {
    "lines_to_next_cell": 2,
    "title": "LOAD DATA"
   },
   "outputs": [],
   "source": [
    "df = pl.read_csv(\"data/dataset.csv\")\n",
    "print(\"Dataset loaded successfully\")\n",
    "print(f\"Shape: {df.shape}\")"
   ]
  },
  {
   "cell_type": "code",
   "execution_count": null,
   "id": "8587572e",
   "metadata": {
    "title": "BASIC DATA INSPECTION"
   },
   "outputs": [],
   "source": [
    "print(\"First 5 rows:\")\n",
    "df.head()"
   ]
  },
  {
   "cell_type": "code",
   "execution_count": null,
   "id": "effba88c",
   "metadata": {
    "title": "CHECK FOR MISSING VALUES"
   },
   "outputs": [],
   "source": [
    "null_counts = df.null_count()\n",
    "print(\"Missing values per column:\")\n",
    "null_counts"
   ]
  },
  {
   "cell_type": "code",
   "execution_count": null,
   "id": "5e857a8e",
   "metadata": {
    "title": "CHECK FOR DUPLICATES"
   },
   "outputs": [],
   "source": [
    "duplicate_count = df.height - df.unique().height\n",
    "print(f\"Number of duplicate rows: {duplicate_count}\")"
   ]
  },
  {
   "cell_type": "code",
   "execution_count": null,
   "id": "34df4fdf",
   "metadata": {
    "title": "BASIC STATISTICS"
   },
   "outputs": [],
   "source": [
    "print(\"Dataset info:\")\n",
    "print(f\"Rows: {df.height}\")\n",
    "print(f\"Columns: {df.width}\")\n",
    "print(f\"Product categories: {df.select('product_category_name').n_unique()}\")\n",
    "print(f\"Unique products: {df.select('product_id').n_unique()}\")"
   ]
  },
  {
   "cell_type": "code",
   "execution_count": null,
   "id": "8876b854",
   "metadata": {
    "title": "OUTLIER DETECTION - PRICE"
   },
   "outputs": [],
   "source": [
    "price_stats = df.select(\n",
    "    [\n",
    "        pl.col(\"unit_price\").quantile(0.25).alias(\"q1\"),\n",
    "        pl.col(\"unit_price\").quantile(0.75).alias(\"q3\"),\n",
    "        pl.col(\"unit_price\").median().alias(\"median\"),\n",
    "        pl.col(\"unit_price\").mean().alias(\"mean\"),\n",
    "    ]\n",
    ")\n",
    "print(\"Unit price statistics:\")\n",
    "print(price_stats)"
   ]
  },
  {
   "cell_type": "code",
   "execution_count": null,
   "id": "cca4db19",
   "metadata": {
    "title": "OUTLIER DETECTION - QUANTITY"
   },
   "outputs": [],
   "source": [
    "iqr_analysis = df.select(\n",
    "    [\n",
    "        (pl.col(\"qty\").quantile(0.80) - pl.col(\"qty\").quantile(0.20)).alias(\n",
    "            \"qty_iqr\"\n",
    "        ),\n",
    "        pl.col(\"qty\").quantile(0.20).alias(\"qty_q1\"),\n",
    "        pl.col(\"qty\").quantile(0.80).alias(\"qty_q3\"),\n",
    "    ]\n",
    ")\n",
    "print(\"Quantity IQR analysis:\")\n",
    "print(iqr_analysis)"
   ]
  },
  {
   "cell_type": "code",
   "execution_count": null,
   "id": "9c79a586",
   "metadata": {
    "title": "VISUALIZE PRICE DISTRIBUTION"
   },
   "outputs": [],
   "source": [
    "plt.figure(figsize=(10, 6))\n",
    "price_data = df.select(\"unit_price\").to_numpy().flatten()\n",
    "plt.hist(price_data, bins=50, alpha=0.7, edgecolor=\"black\")\n",
    "plt.title(\"Unit Price Distribution\")\n",
    "plt.xlabel(\"Unit Price\")\n",
    "plt.ylabel(\"Frequency\")\n",
    "plt.savefig(\n",
    "    f\"../retails-f/assets/{plt.gca().get_title()}.png\", bbox_inches=\"tight\"\n",
    ")"
   ]
  },
  {
   "cell_type": "code",
   "execution_count": null,
   "id": "ad75b520",
   "metadata": {
    "title": "VISUALIZE QUANTITY DISTRIBUTION"
   },
   "outputs": [],
   "source": [
    "plt.figure(figsize=(10, 6))\n",
    "qty_data = df.select(\"qty\").to_numpy().flatten()\n",
    "plt.hist(qty_data, bins=30, alpha=0.7, edgecolor=\"black\")\n",
    "plt.title(\"Quantity Distribution\")\n",
    "plt.xlabel(\"Quantity\")\n",
    "plt.ylabel(\"Frequency\")\n",
    "plt.savefig(\n",
    "    f\"../retails-f/assets/{plt.gca().get_title()}.png\", bbox_inches=\"tight\"\n",
    ")"
   ]
  },
  {
   "cell_type": "code",
   "execution_count": null,
   "id": "f296d0aa",
   "metadata": {
    "title": "PRICE BY CATEGORY BOXPLOT"
   },
   "outputs": [],
   "source": [
    "# Convert to format seaborn can use\n",
    "plot_data = df.select([\"product_category_name\", \"unit_price\"]).to_pandas()\n",
    "plt.figure(figsize=(12, 8))\n",
    "sns.boxplot(x=\"product_category_name\", y=\"unit_price\", data=plot_data)\n",
    "plt.title(\"Product Category vs. Unit Price\")\n",
    "plt.xticks(rotation=45)\n",
    "plt.tight_layout()\n",
    "plt.savefig(\n",
    "    f\"../retails-f/assets/{plt.gca().get_title()}.png\", bbox_inches=\"tight\"\n",
    ")"
   ]
  },
  {
   "cell_type": "code",
   "execution_count": null,
   "id": "93e8d7a0",
   "metadata": {
    "title": "TOTAL PRICE BY CATEGORY"
   },
   "outputs": [],
   "source": [
    "plot_data2 = df.select([\"product_category_name\", \"total_price\"]).to_pandas()\n",
    "plt.figure(figsize=(12, 8))\n",
    "sns.boxplot(x=\"product_category_name\", y=\"total_price\", data=plot_data2)\n",
    "plt.title(\"Product Category vs. Total Price\")\n",
    "plt.xticks(rotation=45)\n",
    "plt.tight_layout()\n",
    "plt.savefig(\n",
    "    f\"../retails-f/assets/{plt.gca().get_title()}.png\", bbox_inches=\"tight\"\n",
    ")"
   ]
  },
  {
   "cell_type": "code",
   "execution_count": null,
   "id": "e49f0c51",
   "metadata": {
    "title": "COMPETITOR PRICE COMPARISON"
   },
   "outputs": [],
   "source": [
    "comp_data = df.select([\"unit_price\", \"comp_1\", \"comp_2\", \"comp_3\"]).to_pandas()\n",
    "plt.figure(figsize=(12, 6))\n",
    "plt.scatter(\n",
    "    comp_data[\"comp_1\"], comp_data[\"unit_price\"], alpha=0.6, label=\"vs Comp 1\"\n",
    ")\n",
    "plt.scatter(\n",
    "    comp_data[\"comp_2\"], comp_data[\"unit_price\"], alpha=0.6, label=\"vs Comp 2\"\n",
    ")\n",
    "plt.xlabel(\"Competitor Price\")\n",
    "plt.ylabel(\"Our Price\")\n",
    "plt.title(\"Our Price vs Competitors\")\n",
    "plt.legend()\n",
    "plt.savefig(\n",
    "    f\"../retails-f/assets/{plt.gca().get_title()}.png\", bbox_inches=\"tight\"\n",
    ")"
   ]
  },
  {
   "cell_type": "code",
   "execution_count": null,
   "id": "519461f8",
   "metadata": {
    "title": "SEASONAL ANALYSIS"
   },
   "outputs": [],
   "source": [
    "seasonal_qty = df.group_by(\"month\").agg(pl.col(\"qty\").mean().alias(\"avg_qty\"))\n",
    "seasonal_data = seasonal_qty.to_pandas()\n",
    "plt.figure(figsize=(10, 6))\n",
    "plt.bar(seasonal_data[\"month\"], seasonal_data[\"avg_qty\"])\n",
    "plt.title(\"Average Quantity by Month\")\n",
    "plt.xlabel(\"Month\")\n",
    "plt.ylabel(\"Average Quantity\")\n",
    "plt.savefig(\n",
    "    f\"../retails-f/assets/{plt.gca().get_title()}.png\", bbox_inches=\"tight\"\n",
    ")"
   ]
  },
  {
   "cell_type": "code",
   "execution_count": null,
   "id": "9f69014f",
   "metadata": {
    "title": "CREATE TARGET VARIABLE - DEMAND CATEGORIES"
   },
   "outputs": [],
   "source": [
    "# Create demand categories based on quantity quartiles\n",
    "qty_quartiles = df.select(\n",
    "    [\n",
    "        pl.col(\"qty\").quantile(0.25).alias(\"low_threshold\"),\n",
    "        pl.col(\"qty\").quantile(0.75).alias(\"high_threshold\"),\n",
    "    ]\n",
    ")\n",
    "\n",
    "low_thresh = qty_quartiles.select(\"low_threshold\").item()\n",
    "high_thresh = qty_quartiles.select(\"high_threshold\").item()\n",
    "\n",
    "df = df.with_columns(\n",
    "    [\n",
    "        pl.when(pl.col(\"qty\") <= low_thresh)\n",
    "        .then(0)\n",
    "        .when(pl.col(\"qty\") <= high_thresh)\n",
    "        .then(1)\n",
    "        .otherwise(2)\n",
    "        .alias(\"demand_category\")\n",
    "    ]\n",
    ")\n",
    "\n",
    "print(f\"Demand thresholds: Low <= {low_thresh:.1f}, High > {high_thresh:.1f}\")"
   ]
  },
  {
   "cell_type": "code",
   "execution_count": null,
   "id": "cd03e862",
   "metadata": {
    "title": "CHECK TARGET DISTRIBUTION"
   },
   "outputs": [],
   "source": [
    "target_dist = df.group_by(\"demand_category\").agg(pl.count().alias(\"count\"))\n",
    "print(\"Demand category distribution:\")\n",
    "print(target_dist)"
   ]
  },
  {
   "cell_type": "code",
   "execution_count": null,
   "id": "5574e21d",
   "metadata": {
    "title": "FEATURE ENGINEERING"
   },
   "outputs": [],
   "source": [
    "df = df.with_columns(\n",
    "    [\n",
    "        # Price ratios\n",
    "        (pl.col(\"unit_price\") / pl.col(\"comp_1\")).alias(\"price_ratio_comp1\"),\n",
    "        (pl.col(\"unit_price\") / pl.col(\"comp_2\")).alias(\"price_ratio_comp2\"),\n",
    "        # Price position vs competitors\n",
    "        pl.when(pl.col(\"unit_price\") < pl.col(\"comp_1\"))\n",
    "        .then(1)\n",
    "        .otherwise(0)\n",
    "        .alias(\"cheaper_than_comp1\"),\n",
    "        # Product characteristics\n",
    "        (\n",
    "            pl.col(\"product_name_lenght\") / pl.col(\"product_description_lenght\")\n",
    "        ).alias(\"name_desc_ratio\"),\n",
    "        # Revenue per customer\n",
    "        (pl.col(\"total_price\") / pl.col(\"customers\")).alias(\n",
    "            \"revenue_per_customer\"\n",
    "        ),\n",
    "    ]\n",
    ")"
   ]
  },
  {
   "cell_type": "code",
   "execution_count": null,
   "id": "1af1f694",
   "metadata": {
    "title": "SELECT FEATURES FOR MODELING"
   },
   "outputs": [],
   "source": [
    "feature_cols = [\n",
    "    \"unit_price\",\n",
    "    \"freight_price\",\n",
    "    \"product_score\",\n",
    "    \"customers\",\n",
    "    \"weekday\",\n",
    "    \"weekend\",\n",
    "    \"holiday\",\n",
    "    \"month\",\n",
    "    \"volume\",\n",
    "    \"comp_1\",\n",
    "    \"comp_2\",\n",
    "    \"comp_3\",\n",
    "    \"product_weight_g\",\n",
    "    \"product_photos_qty\",\n",
    "    \"price_ratio_comp1\",\n",
    "    \"price_ratio_comp2\",\n",
    "    \"cheaper_than_comp1\",\n",
    "    \"revenue_per_customer\",\n",
    "]"
   ]
  },
  {
   "cell_type": "code",
   "execution_count": null,
   "id": "df442a3e",
   "metadata": {
    "title": "PREPARE DATA FOR MODELING"
   },
   "outputs": [],
   "source": [
    "model_data = df.select(feature_cols + [\"demand_category\"]).fill_null(0)\n",
    "X = model_data.select(feature_cols).to_numpy()\n",
    "y = model_data.select(\"demand_category\").to_numpy().flatten()\n",
    "\n",
    "print(f\"Feature matrix shape: {X.shape}\")\n",
    "print(f\"Target vector shape: {y.shape}\")"
   ]
  },
  {
   "cell_type": "code",
   "execution_count": null,
   "id": "5c0886cd",
   "metadata": {
    "title": "TRAIN TEST SPLIT (50-50)"
   },
   "outputs": [],
   "source": [
    "X_train, X_test, y_train, y_test = train_test_split(\n",
    "    X, y, test_size=0.5, random_state=42, stratify=y\n",
    ")\n",
    "\n",
    "print(f\"Training set size: {X_train.shape[0]}\")\n",
    "print(f\"Test set size: {X_test.shape[0]}\")"
   ]
  },
  {
   "cell_type": "code",
   "execution_count": null,
   "id": "331ef979",
   "metadata": {
    "title": "DECISION TREE HYPERPARAMETER TUNING"
   },
   "outputs": [],
   "source": [
    "dt_params = {\n",
    "    \"max_depth\": [5, 10, 15, 20, None],\n",
    "    \"min_samples_split\": [2, 10, 20],\n",
    "    \"min_samples_leaf\": [1, 5, 10],\n",
    "    \"criterion\": [\"gini\", \"entropy\"],\n",
    "}\n",
    "\n",
    "dt = DecisionTreeClassifier(random_state=42)\n",
    "# Use GridSearchCV instead of RandomizedSearchCV\n",
    "dt_grid = GridSearchCV(dt, dt_params, cv=5, scoring=\"accuracy\", n_jobs=-1)"
   ]
  },
  {
   "cell_type": "code",
   "execution_count": null,
   "id": "f0a442df",
   "metadata": {
    "title": "TRAIN DECISION TREE MODEL"
   },
   "outputs": [],
   "source": [
    "# Fit the GridSearchCV to the training data\n",
    "dt_grid.fit(X_train, y_train)\n",
    "best_dt = dt_grid.best_estimator_\n",
    "\n",
    "print(f\"Best Decision Tree parameters: {dt_grid.best_params_}\")\n",
    "print(f\"Best cross-validation score: {dt_grid.best_score_:.3f}\")"
   ]
  },
  {
   "cell_type": "code",
   "execution_count": null,
   "id": "141f7fdf",
   "metadata": {
    "title": "MAKE PREDICTIONS"
   },
   "outputs": [],
   "source": [
    "y_pred = best_dt.predict(X_test)\n",
    "accuracy = accuracy_score(y_test, y_pred)\n",
    "\n",
    "print(f\"Test accuracy: {accuracy:.3f}\")"
   ]
  },
  {
   "cell_type": "code",
   "execution_count": null,
   "id": "b6f3a469",
   "metadata": {
    "title": "DETAILED CLASSIFICATION REPORT"
   },
   "outputs": [],
   "source": [
    "print(\"Classification Report:\")\n",
    "print(\n",
    "    classification_report(\n",
    "        y_test,\n",
    "        y_pred,\n",
    "        target_names=[\"Low Demand\", \"Medium Demand\", \"High Demand\"],\n",
    "    )\n",
    ")"
   ]
  },
  {
   "cell_type": "code",
   "execution_count": null,
   "id": "0c315f0f",
   "metadata": {
    "title": "CONFUSION MATRIX VISUALIZATION"
   },
   "outputs": [],
   "source": [
    "cm = confusion_matrix(y_test, y_pred)\n",
    "plt.figure(figsize=(8, 6))\n",
    "sns.heatmap(\n",
    "    cm,\n",
    "    annot=True,\n",
    "    fmt=\"d\",\n",
    "    cmap=\"Blues\",\n",
    "    xticklabels=[\"Low\", \"Medium\", \"High\"],\n",
    "    yticklabels=[\"Low\", \"Medium\", \"High\"],\n",
    ")\n",
    "plt.title(\"Confusion Matrix\")\n",
    "plt.ylabel(\"Actual\")\n",
    "plt.xlabel(\"Predicted\")\n",
    "plt.savefig(\n",
    "    f\"../retails-f/assets/{plt.gca().get_title()}.png\", bbox_inches=\"tight\"\n",
    ")"
   ]
  },
  {
   "cell_type": "code",
   "execution_count": null,
   "id": "9f9016cb",
   "metadata": {
    "title": "FEATURE IMPORTANCE ANALYSIS"
   },
   "outputs": [],
   "source": [
    "feature_importance = best_dt.feature_importances_\n",
    "importance_df = pl.DataFrame(\n",
    "    {\"feature\": feature_cols, \"importance\": feature_importance}\n",
    ").sort(\"importance\", descending=True)\n",
    "\n",
    "print(\"Top 10 most important features:\")\n",
    "print(importance_df.head(10))"
   ]
  },
  {
   "cell_type": "code",
   "execution_count": null,
   "id": "4f3dc0f7",
   "metadata": {
    "title": "VISUALIZE DECISION TREE"
   },
   "outputs": [],
   "source": [
    "plt.figure(figsize=(20, 10))\n",
    "plot_tree(\n",
    "    best_dt,\n",
    "    feature_names=feature_cols,\n",
    "    class_names=[\"Low\", \"Medium\", \"High\"],\n",
    "    filled=True,\n",
    "    rounded=True,\n",
    "    fontsize=8,\n",
    "    max_depth=3,\n",
    ")\n",
    "plt.title(\"Decision Tree Visualization (First 3 Levels)\")\n",
    "plt.savefig(\n",
    "    f\"../retails-f/assets/{plt.gca().get_title()}.png\", bbox_inches=\"tight\"\n",
    ")"
   ]
  },
  {
   "cell_type": "code",
   "execution_count": null,
   "id": "24803561",
   "metadata": {
    "title": "SAVE MODEL"
   },
   "outputs": [],
   "source": [
    "joblib.dump(best_dt, \"data/model.pkl\")\n",
    "\n",
    "model_metadata = {\n",
    "    \"model_type\": \"DecisionTreeClassifier\",\n",
    "    \"features\": feature_cols,\n",
    "    \"best_params\": dt_grid.best_params_,\n",
    "    \"test_accuracy\": accuracy,\n",
    "    \"demand_thresholds\": {\"low\": low_thresh, \"high\": high_thresh},\n",
    "}\n",
    "\n",
    "joblib.dump(model_metadata, \"data/dt_metadata.pkl\")\n",
    "print(\"Decision tree model and metadata saved successfully!\")"
   ]
  },
  {
   "cell_type": "code",
   "execution_count": null,
   "id": "fda8c82f",
   "metadata": {
    "title": "PREDICTION FUNCTION"
   },
   "outputs": [],
   "source": [
    "def predict_demand_category(model, features):\n",
    "    \"\"\"\n",
    "    Predict demand category for new data\n",
    "    \"\"\"\n",
    "    prediction = model.predict([features])[0]\n",
    "    probabilities = model.predict_proba([features])[0]\n",
    "\n",
    "    categories = [\"Low Demand\", \"Medium Demand\", \"High Demand\"]\n",
    "    return categories[prediction], probabilities"
   ]
  },
  {
   "cell_type": "code",
   "execution_count": null,
   "id": "4e0d98d4",
   "metadata": {
    "title": "SAMPLE PREDICTION"
   },
   "outputs": [],
   "source": [
    "sample_features = X_test[0]\n",
    "category, probs = predict_demand_category(best_dt, sample_features)\n",
    "print(f\"Sample prediction: {category}\")\n",
    "print(f\"Probabilities: {probs}\")\n",
    "print(f\"Actual: {['Low Demand', 'Medium Demand', 'High Demand'][y_test[0]]}\")"
   ]
  },
  {
   "cell_type": "code",
   "execution_count": null,
   "id": "2037748b",
   "metadata": {
    "title": "ANN MODEL"
   },
   "outputs": [],
   "source": [
    "\n",
    "# Define the parameter grid for MLPClassifier\n",
    "mlp_params = {\n",
    "    \"hidden_layer_sizes\": [(50,), (100,), (50, 50), (100, 50)],\n",
    "    \"activation\": [\"tanh\", \"relu\"],\n",
    "    \"solver\": [\"adam\", \"sgd\"],\n",
    "    \"alpha\": [0.0001, 0.001, 0.01],\n",
    "    \"learning_rate\": [\"constant\", \"adaptive\"],\n",
    "}\n",
    "\n",
    "mlp = MLPClassifier(max_iter=1000, random_state=42)\n",
    "\n",
    "# Use GridSearchCV to find the best parameters for MLPClassifier\n",
    "mlp_grid = GridSearchCV(mlp, mlp_params, cv=5, scoring=\"accuracy\", n_jobs=-1)\n",
    "\n",
    "# Fit the model\n",
    "mlp_grid.fit(X_train, y_train)\n",
    "\n",
    "# Get the best estimator\n",
    "best_mlp = mlp_grid.best_estimator_\n",
    "\n",
    "print(f\"Best MLPClassifier parameters: {mlp_grid.best_params_}\")\n",
    "print(f\"Best cross-validation score: {mlp_grid.best_score_:.3f}\")"
   ]
  },
  {
   "cell_type": "code",
   "execution_count": null,
   "id": "b6f40692",
   "metadata": {
    "lines_to_next_cell": 2,
    "title": "CHECK MLP MODEL PERFORMANCE"
   },
   "outputs": [],
   "source": [
    "y_pred_mlp = best_mlp.predict(X_test)\n",
    "accuracy_mlp = accuracy_score(y_test, y_pred_mlp)\n",
    "print(f\"Test accuracy (MLPClassifier): {accuracy_mlp:.3f}\")\n",
    "\n",
    "print(\"\\nClassification Report (MLPClassifier):\")\n",
    "print(\n",
    "    classification_report(\n",
    "        y_test,\n",
    "        y_pred_mlp,\n",
    "        target_names=[\"Low Demand\", \"Medium Demand\", \"High Demand\"],\n",
    "    )\n",
    ")"
   ]
  },
  {
   "cell_type": "code",
   "execution_count": null,
   "id": "25d24244",
   "metadata": {
    "title": "K-NEAREST NEIGHBORS MODEL"
   },
   "outputs": [],
   "source": [
    "# Define the parameter grid for KNN\n",
    "knn_params = {\n",
    "    \"n_neighbors\": [3, 5, 7, 9, 11],\n",
    "    \"weights\": [\"uniform\", \"distance\"],\n",
    "    \"metric\": [\"euclidean\", \"minkowski\"],\n",
    "}\n",
    "\n",
    "knn = KNeighborsClassifier()\n",
    "\n",
    "# Use GridSearchCV to find the best parameters for KNN\n",
    "knn_grid = GridSearchCV(knn, knn_params, cv=5, scoring=\"accuracy\", n_jobs=-1)\n",
    "\n",
    "# Fit the model\n",
    "knn_grid.fit(X_train, y_train)\n",
    "\n",
    "# Get the best estimator\n",
    "best_knn = knn_grid.best_estimator_\n",
    "\n",
    "print(f\"Best KNN parameters: {knn_grid.best_params_}\")\n",
    "print(f\"Best cross-validation score: {knn_grid.best_score_:.3f}\")"
   ]
  },
  {
   "cell_type": "code",
   "execution_count": null,
   "id": "d68b7a3e",
   "metadata": {
    "lines_to_next_cell": 0,
    "title": "K-NN MODEL EVALUATION"
   },
   "outputs": [],
   "source": [
    "y_pred_knn = best_knn.predict(X_test)  # Use 'knn' instead of 'best_knn'\n",
    "accuracy_knn = accuracy_score(y_test, y_pred_knn)\n",
    "print(f\"Test accuracy (KNN): {accuracy_knn:.3f}\")\n",
    "\n",
    "print(\"\\nClassification Report (KNN):\")\n",
    "print(\n",
    "    classification_report(\n",
    "        y_test,\n",
    "        y_pred_knn,\n",
    "        target_names=[\"Low Demand\", \"Medium Demand\", \"High Demand\"],\n",
    "    )\n",
    ")"
   ]
  },
  {
   "cell_type": "code",
   "execution_count": null,
   "id": "52b61989",
   "metadata": {
    "title": "COMPARE MODELS"
   },
   "outputs": [],
   "source": [
    "model_comparison = pl.DataFrame({\n",
    "    \"Model\": [\"Decision Tree\", \"KNN\", \"MLPClassifier (ANN)\"],\n",
    "    \"Test Accuracy\": [accuracy, accuracy_knn, accuracy_mlp],\n",
    "})\n",
    "\n",
    "print(\"Model Comparison Table:\")\n",
    "model_comparison.sort(\"Test Accuracy\", descending=True)"
   ]
  }
 ],
 "metadata": {
  "jupytext": {
   "cell_metadata_filter": "title,-all",
   "main_language": "python",
   "notebook_metadata_filter": "-all"
  }
 },
 "nbformat": 4,
 "nbformat_minor": 5
}
